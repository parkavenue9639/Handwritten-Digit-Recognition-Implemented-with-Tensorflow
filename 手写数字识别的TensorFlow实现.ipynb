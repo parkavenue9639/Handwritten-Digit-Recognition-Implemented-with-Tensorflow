{
 "cells": [
  {
   "cell_type": "markdown",
   "id": "ed3277ac",
   "metadata": {},
   "source": [
    "# 1.多类分类"
   ]
  },
  {
   "cell_type": "markdown",
   "id": "7db9bcfb",
   "metadata": {},
   "source": [
    "## 1.1加载数据集"
   ]
  },
  {
   "cell_type": "markdown",
   "id": "92f68556",
   "metadata": {},
   "source": [
    "使用逻辑回归来识别手写数字（0-9）.首先开始加载数据集，它是在MATLAB的本机格式，所以要加载它到python，需要使用一个SciPy工具"
   ]
  },
  {
   "cell_type": "code",
   "execution_count": 2,
   "id": "df8e41bc",
   "metadata": {},
   "outputs": [],
   "source": [
    "import numpy as np\n",
    "import pandas as pd\n",
    "import matplotlib.pyplot as plt\n",
    "import matplotlib\n",
    "from scipy.io import loadmat"
   ]
  },
  {
   "cell_type": "code",
   "execution_count": 3,
   "id": "16238dd8",
   "metadata": {},
   "outputs": [
    {
     "data": {
      "text/plain": [
       "{'__header__': b'MATLAB 5.0 MAT-file, Platform: GLNXA64, Created on: Sun Oct 16 13:09:09 2011',\n",
       " '__version__': '1.0',\n",
       " '__globals__': [],\n",
       " 'X': array([[0., 0., 0., ..., 0., 0., 0.],\n",
       "        [0., 0., 0., ..., 0., 0., 0.],\n",
       "        [0., 0., 0., ..., 0., 0., 0.],\n",
       "        ...,\n",
       "        [0., 0., 0., ..., 0., 0., 0.],\n",
       "        [0., 0., 0., ..., 0., 0., 0.],\n",
       "        [0., 0., 0., ..., 0., 0., 0.]]),\n",
       " 'y': array([[10],\n",
       "        [10],\n",
       "        [10],\n",
       "        ...,\n",
       "        [ 9],\n",
       "        [ 9],\n",
       "        [ 9]], dtype=uint8)}"
      ]
     },
     "execution_count": 3,
     "metadata": {},
     "output_type": "execute_result"
    }
   ],
   "source": [
    "data=loadmat('/Users/luchong/Desktop/学习技术栈/机器学习/作业数据/ex3data1.mat')\n",
    "data "
   ]
  },
  {
   "cell_type": "markdown",
   "id": "d954bf3f",
   "metadata": {},
   "source": [
    "其中X是特征数组，y是结果数组"
   ]
  },
  {
   "cell_type": "code",
   "execution_count": 4,
   "id": "00241c77",
   "metadata": {},
   "outputs": [
    {
     "data": {
      "text/plain": [
       "numpy.ndarray"
      ]
     },
     "execution_count": 4,
     "metadata": {},
     "output_type": "execute_result"
    }
   ],
   "source": [
    "data['X'].shape,data['y'].shape\n",
    "type(data['X'])"
   ]
  },
  {
   "cell_type": "markdown",
   "id": "e17071b6",
   "metadata": {},
   "source": [
    "训练集中，共有5000条数据，其中X中有400个特征，分别为图片中每个像素的亮度值，y中为其对应的最终数字"
   ]
  },
  {
   "cell_type": "markdown",
   "id": "491fac4f",
   "metadata": {},
   "source": [
    "## 1.2数据可视化"
   ]
  },
  {
   "cell_type": "markdown",
   "id": "e1adcfe5",
   "metadata": {},
   "source": [
    "随机展示100个数据"
   ]
  },
  {
   "cell_type": "code",
   "execution_count": 5,
   "id": "69563cab",
   "metadata": {},
   "outputs": [
    {
     "data": {
      "text/plain": [
       "array([[0., 0., 0., ..., 0., 0., 0.],\n",
       "       [0., 0., 0., ..., 0., 0., 0.],\n",
       "       [0., 0., 0., ..., 0., 0., 0.],\n",
       "       ...,\n",
       "       [0., 0., 0., ..., 0., 0., 0.],\n",
       "       [0., 0., 0., ..., 0., 0., 0.],\n",
       "       [0., 0., 0., ..., 0., 0., 0.]])"
      ]
     },
     "execution_count": 5,
     "metadata": {},
     "output_type": "execute_result"
    }
   ],
   "source": [
    "sample_idx=np.random.choice(np.arange(data['X'].shape[0]),100)\n",
    "sample_images=data['X'][sample_idx,:]\n",
    "sample_images"
   ]
  },
  {
   "cell_type": "code",
   "execution_count": 6,
   "id": "1d1d5e94",
   "metadata": {},
   "outputs": [
    {
     "data": {
      "image/png": "[encoded data removed]",
      "text/plain": [
       "<Figure size 1200x1200 with 100 Axes>"
      ]
     },
     "metadata": {},
     "output_type": "display_data"
    }
   ],
   "source": [
    "fig,ax_array=plt.subplots(nrows=10,ncols=10,sharey=True,sharex=True,figsize=(12,12))\n",
    "for r in range(10):\n",
    "    for c in range(10):\n",
    "        ax_array[r,c].matshow(np.array(sample_images[10*r+c].reshape((20,20))).T,cmap=matplotlib.cm.binary)\n",
    "        plt.xticks(np.array([]))\n",
    "        plt.yticks(np.array([]))"
   ]
  },
  {
   "cell_type": "markdown",
   "id": "58c5bd47",
   "metadata": {},
   "source": [
    "## 1.3指定一个模型"
   ]
  },
  {
   "cell_type": "code",
   "execution_count": 10,
   "id": "93de82f8",
   "metadata": {},
   "outputs": [],
   "source": [
    "import tensorflow as tf\n",
    "from tensorflow.keras import Sequential\n",
    "from tensorflow.keras.layers import Dense"
   ]
  },
  {
   "cell_type": "code",
   "execution_count": 12,
   "id": "4532cfaa",
   "metadata": {},
   "outputs": [],
   "source": [
    "model= Sequential([\n",
    "    Dense(units=25,activation='relu'),\n",
    "    Dense(units=15,activation='relu'),\n",
    "    Dense(units=10,activation='softmax')\n",
    "])"
   ]
  },
  {
   "cell_type": "markdown",
   "id": "c45990d1",
   "metadata": {},
   "source": [
    "## 1.4指定代价和损失函数"
   ]
  },
  {
   "cell_type": "code",
   "execution_count": 13,
   "id": "ca1b4af2",
   "metadata": {},
   "outputs": [],
   "source": [
    "from tensorflow.keras.losses import SparseCategoricalCrossentropy\n",
    "model.compile(loss=SparseCategoricalCrossentropy())"
   ]
  },
  {
   "cell_type": "markdown",
   "id": "03a6aaf9",
   "metadata": {},
   "source": [
    "## 1.5在训练集上训练来最小化损失函数"
   ]
  },
  {
   "cell_type": "code",
   "execution_count": 15,
   "id": "2188451c",
   "metadata": {},
   "outputs": [
    {
     "name": "stdout",
     "output_type": "stream",
     "text": [
      "10\n",
      "1\n"
     ]
    }
   ],
   "source": [
    "print(np.max(data['y']))\n",
    "print(np.min(data['y']))"
   ]
  },
  {
   "cell_type": "markdown",
   "id": "8445bb8e",
   "metadata": {},
   "source": [
    "在TensorFlow中，标签的取值通常是整数形式，表示样本属于哪个类别，且类别从0开始索引。\n",
    "\n",
    "手写数字识别问题中，共有10个类别（数字0到9），因此标签的取值应该在0到9之间，包含0，但不包含10。\n",
    "所以我们应该对data['y']进行-1处理"
   ]
  },
  {
   "cell_type": "code",
   "execution_count": 16,
   "id": "8cbcc9c0",
   "metadata": {},
   "outputs": [
    {
     "name": "stdout",
     "output_type": "stream",
     "text": [
      "9\n",
      "0\n"
     ]
    }
   ],
   "source": [
    "y_train_minus_1 =data['y'] - 1\n",
    "print(np.max(y_train_minus_1))\n",
    "print(np.min(y_train_minus_1))"
   ]
  },
  {
   "cell_type": "code",
   "execution_count": 19,
   "id": "fd7e825f",
   "metadata": {},
   "outputs": [
    {
     "name": "stdout",
     "output_type": "stream",
     "text": [
      "Epoch 1/100\n",
      "156/156 [==============================] - 0s 1ms/step - loss: 2.0007e-04\n",
      "Epoch 2/100\n",
      "156/156 [==============================] - 0s 1ms/step - loss: 1.4329e-04\n",
      "Epoch 3/100\n",
      "156/156 [==============================] - 0s 1ms/step - loss: 1.3819e-04\n",
      "Epoch 4/100\n",
      "156/156 [==============================] - 0s 991us/step - loss: 1.6862e-04\n",
      "Epoch 5/100\n",
      "156/156 [==============================] - 0s 907us/step - loss: 1.4035e-04\n",
      "Epoch 6/100\n",
      "156/156 [==============================] - 0s 917us/step - loss: 1.0268e-04\n",
      "Epoch 7/100\n",
      "156/156 [==============================] - 0s 922us/step - loss: 1.0218e-04\n",
      "Epoch 8/100\n",
      "156/156 [==============================] - 0s 936us/step - loss: 9.2147e-05\n",
      "Epoch 9/100\n",
      "156/156 [==============================] - 0s 888us/step - loss: 7.6421e-05\n",
      "Epoch 10/100\n",
      "156/156 [==============================] - 0s 892us/step - loss: 7.6659e-05\n",
      "Epoch 11/100\n",
      "156/156 [==============================] - 0s 1ms/step - loss: 6.6319e-05\n",
      "Epoch 12/100\n",
      "156/156 [==============================] - 0s 951us/step - loss: 5.8649e-05\n",
      "Epoch 13/100\n",
      "156/156 [==============================] - 0s 941us/step - loss: 5.8003e-05\n",
      "Epoch 14/100\n",
      "156/156 [==============================] - 0s 938us/step - loss: 5.3804e-05\n",
      "Epoch 15/100\n",
      "156/156 [==============================] - 0s 1ms/step - loss: 4.9788e-05\n",
      "Epoch 16/100\n",
      "156/156 [==============================] - 0s 895us/step - loss: 4.9670e-05\n",
      "Epoch 17/100\n",
      "156/156 [==============================] - 0s 1ms/step - loss: 4.3763e-05\n",
      "Epoch 18/100\n",
      "156/156 [==============================] - 0s 995us/step - loss: 4.1948e-05\n",
      "Epoch 19/100\n",
      "156/156 [==============================] - 0s 908us/step - loss: 4.1013e-05\n",
      "Epoch 20/100\n",
      "156/156 [==============================] - 0s 915us/step - loss: 3.9437e-05\n",
      "Epoch 21/100\n",
      "156/156 [==============================] - 0s 886us/step - loss: 3.7045e-05\n",
      "Epoch 22/100\n",
      "156/156 [==============================] - 0s 914us/step - loss: 3.6106e-05\n",
      "Epoch 23/100\n",
      "156/156 [==============================] - 0s 903us/step - loss: 3.3585e-05\n",
      "Epoch 24/100\n",
      "156/156 [==============================] - 0s 887us/step - loss: 3.2361e-05\n",
      "Epoch 25/100\n",
      "156/156 [==============================] - 0s 893us/step - loss: 3.1822e-05\n",
      "Epoch 26/100\n",
      "156/156 [==============================] - 0s 900us/step - loss: 3.0068e-05\n",
      "Epoch 27/100\n",
      "156/156 [==============================] - 0s 915us/step - loss: 2.9668e-05\n",
      "Epoch 28/100\n",
      "156/156 [==============================] - 0s 964us/step - loss: 2.8107e-05\n",
      "Epoch 29/100\n",
      "156/156 [==============================] - 0s 920us/step - loss: 2.7112e-05\n",
      "Epoch 30/100\n",
      "156/156 [==============================] - 0s 902us/step - loss: 2.6696e-05\n",
      "Epoch 31/100\n",
      "156/156 [==============================] - 0s 2ms/step - loss: 2.5651e-05\n",
      "Epoch 32/100\n",
      "156/156 [==============================] - 0s 966us/step - loss: 2.5032e-05\n",
      "Epoch 33/100\n",
      "156/156 [==============================] - 0s 897us/step - loss: 2.4275e-05\n",
      "Epoch 34/100\n",
      "156/156 [==============================] - 0s 919us/step - loss: 2.3608e-05\n",
      "Epoch 35/100\n",
      "156/156 [==============================] - 0s 909us/step - loss: 2.2991e-05\n",
      "Epoch 36/100\n",
      "156/156 [==============================] - 0s 899us/step - loss: 2.2588e-05\n",
      "Epoch 37/100\n",
      "156/156 [==============================] - 0s 936us/step - loss: 2.2192e-05\n",
      "Epoch 38/100\n",
      "156/156 [==============================] - 0s 931us/step - loss: 2.1488e-05\n",
      "Epoch 39/100\n",
      "156/156 [==============================] - 0s 958us/step - loss: 2.0815e-05\n",
      "Epoch 40/100\n",
      "156/156 [==============================] - 0s 892us/step - loss: 2.0248e-05\n",
      "Epoch 41/100\n",
      "156/156 [==============================] - 0s 1ms/step - loss: 1.9678e-05\n",
      "Epoch 42/100\n",
      "156/156 [==============================] - 0s 2ms/step - loss: 1.9256e-05\n",
      "Epoch 43/100\n",
      "156/156 [==============================] - 0s 972us/step - loss: 1.8977e-05\n",
      "Epoch 44/100\n",
      "156/156 [==============================] - 0s 894us/step - loss: 1.8440e-05\n",
      "Epoch 45/100\n",
      "156/156 [==============================] - 0s 949us/step - loss: 1.8039e-05\n",
      "Epoch 46/100\n",
      "156/156 [==============================] - 0s 936us/step - loss: 1.7433e-05\n",
      "Epoch 47/100\n",
      "156/156 [==============================] - 0s 907us/step - loss: 1.7290e-05\n",
      "Epoch 48/100\n",
      "156/156 [==============================] - 0s 920us/step - loss: 1.6951e-05\n",
      "Epoch 49/100\n",
      "156/156 [==============================] - 0s 941us/step - loss: 1.6762e-05\n",
      "Epoch 50/100\n",
      "156/156 [==============================] - 0s 1ms/step - loss: 1.6230e-05\n",
      "Epoch 51/100\n",
      "156/156 [==============================] - 0s 920us/step - loss: 1.5994e-05\n",
      "Epoch 52/100\n",
      "156/156 [==============================] - 0s 917us/step - loss: 1.5547e-05\n",
      "Epoch 53/100\n",
      "156/156 [==============================] - 0s 930us/step - loss: 1.5384e-05\n",
      "Epoch 54/100\n",
      "156/156 [==============================] - 0s 899us/step - loss: 1.5115e-05\n",
      "Epoch 55/100\n",
      "156/156 [==============================] - 0s 938us/step - loss: 1.4658e-05\n",
      "Epoch 56/100\n",
      "156/156 [==============================] - 0s 921us/step - loss: 1.4521e-05\n",
      "Epoch 57/100\n",
      "156/156 [==============================] - 0s 902us/step - loss: 1.4390e-05\n",
      "Epoch 58/100\n",
      "156/156 [==============================] - 0s 935us/step - loss: 1.4095e-05\n",
      "Epoch 59/100\n",
      "156/156 [==============================] - 0s 930us/step - loss: 1.3731e-05\n",
      "Epoch 60/100\n",
      "156/156 [==============================] - 0s 909us/step - loss: 1.3524e-05\n",
      "Epoch 61/100\n",
      "156/156 [==============================] - 0s 989us/step - loss: 1.3217e-05\n",
      "Epoch 62/100\n",
      "156/156 [==============================] - 0s 919us/step - loss: 1.3246e-05\n",
      "Epoch 63/100\n",
      "156/156 [==============================] - 0s 903us/step - loss: 1.2883e-05\n",
      "Epoch 64/100\n",
      "156/156 [==============================] - 0s 936us/step - loss: 1.2724e-05\n",
      "Epoch 65/100\n",
      "156/156 [==============================] - 0s 946us/step - loss: 1.2517e-05\n",
      "Epoch 66/100\n",
      "156/156 [==============================] - 0s 908us/step - loss: 1.2351e-05\n",
      "Epoch 67/100\n",
      "156/156 [==============================] - 0s 953us/step - loss: 1.2117e-05\n",
      "Epoch 68/100\n",
      "156/156 [==============================] - 0s 938us/step - loss: 1.1919e-05\n",
      "Epoch 69/100\n",
      "156/156 [==============================] - 0s 938us/step - loss: 1.1798e-05\n",
      "Epoch 70/100\n",
      "156/156 [==============================] - 0s 986us/step - loss: 1.1656e-05\n",
      "Epoch 71/100\n",
      "156/156 [==============================] - 0s 927us/step - loss: 1.1389e-05\n",
      "Epoch 72/100\n",
      "156/156 [==============================] - 0s 1ms/step - loss: 1.1285e-05\n",
      "Epoch 73/100\n",
      "156/156 [==============================] - 0s 1ms/step - loss: 1.1131e-05\n",
      "Epoch 74/100\n",
      "156/156 [==============================] - 0s 1ms/step - loss: 1.1056e-05\n",
      "Epoch 75/100\n",
      "156/156 [==============================] - 0s 1ms/step - loss: 1.0899e-05\n",
      "Epoch 76/100\n",
      "156/156 [==============================] - 0s 1ms/step - loss: 1.0649e-05\n",
      "Epoch 77/100\n",
      "156/156 [==============================] - 0s 1ms/step - loss: 1.0641e-05\n",
      "Epoch 78/100\n",
      "156/156 [==============================] - 0s 1ms/step - loss: 1.0454e-05\n",
      "Epoch 79/100\n",
      "156/156 [==============================] - 0s 959us/step - loss: 1.0280e-05\n",
      "Epoch 80/100\n",
      "156/156 [==============================] - 0s 1ms/step - loss: 1.0052e-05\n",
      "Epoch 81/100\n",
      "156/156 [==============================] - 0s 924us/step - loss: 1.0052e-05\n",
      "Epoch 82/100\n",
      "156/156 [==============================] - 0s 941us/step - loss: 9.8920e-06\n",
      "Epoch 83/100\n",
      "156/156 [==============================] - 0s 907us/step - loss: 9.7449e-06\n",
      "Epoch 84/100\n",
      "156/156 [==============================] - 0s 912us/step - loss: 9.6898e-06\n",
      "Epoch 85/100\n",
      "156/156 [==============================] - 0s 926us/step - loss: 9.5313e-06\n",
      "Epoch 86/100\n",
      "156/156 [==============================] - 0s 904us/step - loss: 9.4425e-06\n",
      "Epoch 87/100\n",
      "156/156 [==============================] - 0s 935us/step - loss: 9.3271e-06\n",
      "Epoch 88/100\n",
      "156/156 [==============================] - 0s 1ms/step - loss: 9.2050e-06\n",
      "Epoch 89/100\n",
      "156/156 [==============================] - 0s 991us/step - loss: 9.0257e-06\n",
      "Epoch 90/100\n",
      "156/156 [==============================] - 0s 1ms/step - loss: 9.0452e-06\n",
      "Epoch 91/100\n",
      "156/156 [==============================] - 0s 927us/step - loss: 8.9093e-06\n",
      "Epoch 92/100\n",
      "156/156 [==============================] - 0s 962us/step - loss: 8.8038e-06\n",
      "Epoch 93/100\n",
      "156/156 [==============================] - 0s 919us/step - loss: 8.7015e-06\n",
      "Epoch 94/100\n",
      "156/156 [==============================] - 0s 878us/step - loss: 8.6570e-06\n",
      "Epoch 95/100\n",
      "156/156 [==============================] - 0s 891us/step - loss: 8.4495e-06\n",
      "Epoch 96/100\n",
      "156/156 [==============================] - 0s 874us/step - loss: 8.3864e-06\n",
      "Epoch 97/100\n",
      "156/156 [==============================] - 0s 1ms/step - loss: 8.3376e-06\n",
      "Epoch 98/100\n",
      "156/156 [==============================] - 0s 1ms/step - loss: 8.2319e-06\n",
      "Epoch 99/100\n",
      "156/156 [==============================] - 0s 952us/step - loss: 8.1861e-06\n",
      "Epoch 100/100\n",
      "156/156 [==============================] - 0s 889us/step - loss: 8.0787e-06\n"
     ]
    },
    {
     "data": {
      "text/plain": [
       "<keras.src.callbacks.History at 0x7fe93955f8b0>"
      ]
     },
     "execution_count": 19,
     "metadata": {},
     "output_type": "execute_result"
    }
   ],
   "source": [
    "#将训练集中的最后10组数据设为测试集，不参与模型训练\n",
    "from sklearn.model_selection import train_test_split\n",
    "X_train, X_test, y_train, y_test = train_test_split(data['X'], y_train_minus_1, test_size=10, shuffle=True, random_state=42)\n",
    "model.fit(X_train,y_train,epochs=100) "
   ]
  },
  {
   "cell_type": "markdown",
   "id": "ff4bf155",
   "metadata": {},
   "source": [
    "## 1.6随机取数进行预测"
   ]
  },
  {
   "cell_type": "code",
   "execution_count": 21,
   "id": "89e208c8",
   "metadata": {},
   "outputs": [
    {
     "data": {
      "text/plain": [
       "(array([[0., 0., 0., ..., 0., 0., 0.],\n",
       "        [0., 0., 0., ..., 0., 0., 0.],\n",
       "        [0., 0., 0., ..., 0., 0., 0.],\n",
       "        ...,\n",
       "        [0., 0., 0., ..., 0., 0., 0.],\n",
       "        [0., 0., 0., ..., 0., 0., 0.],\n",
       "        [0., 0., 0., ..., 0., 0., 0.]]),\n",
       " array([[2],\n",
       "        [4],\n",
       "        [4],\n",
       "        [1],\n",
       "        [0],\n",
       "        [9],\n",
       "        [0],\n",
       "        [3],\n",
       "        [3],\n",
       "        [2]], dtype=uint8))"
      ]
     },
     "execution_count": 21,
     "metadata": {},
     "output_type": "execute_result"
    }
   ],
   "source": [
    "#先看一下测试集\n",
    "X_test,y_test"
   ]
  },
  {
   "cell_type": "code",
   "execution_count": 34,
   "id": "870c9a91",
   "metadata": {},
   "outputs": [
    {
     "name": "stdout",
     "output_type": "stream",
     "text": [
      "1/1 [==============================] - 0s 17ms/step\n",
      "预测结果： [ 3  5  5  2  1 10  1  4  4  3]\n",
      "真实标签： [[2 4 4 1 0 9 0 3 3 2]]\n"
     ]
    }
   ],
   "source": [
    "predictions = model.predict(X_test)\n",
    "predicted_digits = tf.argmax(predictions, axis=1)\n",
    "predicted_digits = predicted_digits.numpy() + 1\n",
    "print(\"预测结果：\", predicted_digits)\n",
    "test=y_test.reshape(1,10)\n",
    "print(\"真实标签：\",test)\n",
    "#其中test中的真实标签值是执行过减1操作的，所以最终的结果是全部正确的"
   ]
  },
  {
   "cell_type": "markdown",
   "id": "9d383566",
   "metadata": {},
   "source": [
    "# 2.针对多类分类的高级优化算法"
   ]
  },
  {
   "cell_type": "markdown",
   "id": "34687c56",
   "metadata": {},
   "source": []
  },
  {
   "cell_type": "code",
   "execution_count": null,
   "id": "b680957d",
   "metadata": {},
   "outputs": [],
   "source": []
  }
 ],
 "metadata": {
  "kernelspec": {
   "display_name": "Python 3 (ipykernel)",
   "language": "python",
   "name": "python3"
  },
  "language_info": {
   "codemirror_mode": {
    "name": "ipython",
    "version": 3
   },
   "file_extension": ".py",
   "mimetype": "text/x-python",
   "name": "python",
   "nbconvert_exporter": "python",
   "pygments_lexer": "ipython3",
   "version": "3.9.5"
  }
 },
 "nbformat": 4,
 "nbformat_minor": 5
}
